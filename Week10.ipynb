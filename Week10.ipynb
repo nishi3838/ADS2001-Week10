{
 "cells": [],
 "metadata": {},
 "nbformat": 4,
 "nbformat_minor": 5

  "nbformat_minor": 10

 
 
}
